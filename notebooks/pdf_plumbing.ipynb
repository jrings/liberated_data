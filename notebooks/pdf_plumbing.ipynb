{
 "cells": [
  {
   "cell_type": "code",
   "execution_count": 2,
   "metadata": {},
   "outputs": [],
   "source": [
    "import os\n",
    "import pdfplumber"
   ]
  },
  {
   "cell_type": "markdown",
   "metadata": {},
   "source": [
    "### Two major formats\n",
    "\n",
    "Let's start with the friendlier one"
   ]
  },
  {
   "cell_type": "code",
   "execution_count": 5,
   "metadata": {},
   "outputs": [
    {
     "data": {
      "text/plain": [
       "1"
      ]
     },
     "execution_count": 5,
     "metadata": {},
     "output_type": "execute_result"
    }
   ],
   "source": [
    "pdf = pdfplumber.open(os.path.expanduser(\"~/data/texas_air/tceq/pdf/5327403.pdf\"))\n",
    "len(pdf.pages)"
   ]
  },
  {
   "cell_type": "code",
   "execution_count": 6,
   "metadata": {},
   "outputs": [
    {
     "data": {
      "text/plain": [
       "[['Emission Point No.\\n(1)',\n",
       "  'Source Name (2)',\n",
       "  'Air Contaminant\\nName (3)',\n",
       "  'Emission Rates (7)',\n",
       "  None],\n",
       " ['', '', '', 'lbs/hour', 'TPY (4)'],\n",
       " ['1', 'Primary Crusher (5)', 'PM', '0.01', '0.01'],\n",
       " [None, None, 'PM\\n10', '0.01', '0.01'],\n",
       " [None, None, 'PM\\n2.5', '0.01', '0.01'],\n",
       " ['2', 'Screen (5)', 'PM', '0.06', '0.07'],\n",
       " [None, None, 'PM\\n10', '0.02', '0.03'],\n",
       " [None, None, 'PM\\n2.5', '0.01', '0.01'],\n",
       " ['3', 'Material Handling (5)', 'PM', '0.15', '0.17'],\n",
       " [None, None, 'PM\\n10', '0.05', '0.06'],\n",
       " [None, None, 'PM\\n2.5', '0.02', '0.02'],\n",
       " ['4', 'Stockpiles (5)(6)', 'PM', '--', '0.46'],\n",
       " [None, None, 'PM\\n10', '--', '0.23'],\n",
       " [None, None, 'PM\\n2.5', '--', '0.04']]"
      ]
     },
     "execution_count": 6,
     "metadata": {},
     "output_type": "execute_result"
    }
   ],
   "source": [
    "pdf.pages[0].extract_table()"
   ]
  },
  {
   "cell_type": "markdown",
   "metadata": {},
   "source": [
    "### Second major format\n",
    "\n",
    "This one seems a bit older and is not well formatted"
   ]
  },
  {
   "cell_type": "code",
   "execution_count": 74,
   "metadata": {},
   "outputs": [],
   "source": [
    "pdf = pdfplumber.open(os.path.expanduser(\"~/data/texas_air/AIR NSR_xPrimaryID-18257_Permits_Public_19920127_MAERT_5348400_.pdf\"))"
   ]
  },
  {
   "cell_type": "code",
   "execution_count": 75,
   "metadata": {},
   "outputs": [
    {
     "name": "stdout",
     "output_type": "stream",
     "text": [
      "EMISSION SOURCES - MAXIMUM ALLOWABLE EMISSION RATES\n",
      "H-50322\n",
      "This table lists the maximum allowable emission rates and all sources of air contaminants on the\n",
      "applicant's property covered by this permit. The emission rates shown are those derived from\n",
      "information submitted as part of the application for permit and are the maximum rates allowed for\n",
      "these facilities. Any proposed increase in emission rates may require an application for a\n",
      "modification of the facilities covered by this permit.\n",
      "AIR CONTAMINANTS DATA\n",
      "Emission Source Air Contaminant Emission Rates *\n",
      "Point No. (1) Name (2) Name (3) lb/hr TPY\n",
      "CCIN-1 Incinerator NOx 3.00 13.14\n",
      "Stack A CO 1.11 4.87\n",
      "Cl 4.00 17.52\n",
      "2\n",
      "HCl 1.00 4.38\n",
      "VOC <0.05 <0.22\n",
      "SO 0.10 0.44\n",
      "2\n",
      "PM 1.00 4.38\n",
      "CCIN-2 Incinerator NOx 3.00 13.14\n",
      "Stack B CO 1.11 4.87\n",
      "Cl 4.00 17.52\n",
      "2\n",
      "HCl 1.00 4.38\n",
      "VOC <0.05 <0.22\n",
      "SO 0.10 0.44\n",
      "2\n",
      "PM 1.00 4.38\n",
      "(1) Emission point identification - either specific equipment designation or emission point number\n",
      "from plot plan.\n",
      "(2) Specific point source name. For fugitive sources use area name or fugitive source name.\n",
      "(3) PM - particulate matter\n",
      "VOC - volatile organic compounds as defined in General Rule 101.1\n",
      "NOx - total oxides of nitrogen\n",
      "SO - sulfur dioxide\n",
      "2\n",
      "CO - carbon monoxide\n",
      "Cl - chlorine\n",
      "2\n",
      "HCl - hydrogen chlorine\n",
      "* Emission rates are based on and the facilities are limited by the following maximum operating\n",
      "schedule:\n"
     ]
    }
   ],
   "source": [
    "p0 = pdf.pages[0]\n",
    "print(p0.extract_text())"
   ]
  },
  {
   "cell_type": "code",
   "execution_count": 76,
   "metadata": {},
   "outputs": [
    {
     "data": {
      "image/png": "[encoded data removed]",
      "text/plain": [
       "<pdfplumber.display.PageImage at 0x79ecf9b07b20>"
      ]
     },
     "execution_count": 76,
     "metadata": {},
     "output_type": "execute_result"
    }
   ],
   "source": [
    "im = p0.to_image()\n",
    "im.draw_line(((0, 230), (600, 230)))\n",
    "im.draw_line(((0, 440), (600, 440)))\n"
   ]
  },
  {
   "cell_type": "code",
   "execution_count": 61,
   "metadata": {},
   "outputs": [
    {
     "data": {
      "image/png": "[encoded data removed]",
      "text/plain": [
       "<pdfplumber.display.PageImage at 0x79ed2c3c90c0>"
      ]
     },
     "execution_count": 61,
     "metadata": {},
     "output_type": "execute_result"
    }
   ],
   "source": [
    "p0_cropped = p0.crop((0, 230, 600, 440))\n",
    "p0_cropped.to_image()"
   ]
  },
  {
   "cell_type": "code",
   "execution_count": 69,
   "metadata": {},
   "outputs": [],
   "source": [
    "import pandas as pd\n",
    "df = pd.DataFrame(\n",
    "    p0_cropped.extract_table(\n",
    "        dict(\n",
    "            vertical_strategy=\"text\", \n",
    "            horizontal_strategy=\"text\",\n",
    "            text_tolerance=5)))"
   ]
  },
  {
   "cell_type": "code",
   "execution_count": 70,
   "metadata": {},
   "outputs": [
    {
     "data": {
      "text/html": [
       "<div>\n",
       "<style scoped>\n",
       "    .dataframe tbody tr th:only-of-type {\n",
       "        vertical-align: middle;\n",
       "    }\n",
       "\n",
       "    .dataframe tbody tr th {\n",
       "        vertical-align: top;\n",
       "    }\n",
       "\n",
       "    .dataframe thead th {\n",
       "        text-align: right;\n",
       "    }\n",
       "</style>\n",
       "<table border=\"1\" class=\"dataframe\">\n",
       "  <thead>\n",
       "    <tr style=\"text-align: right;\">\n",
       "      <th></th>\n",
       "      <th>0</th>\n",
       "      <th>1</th>\n",
       "      <th>2</th>\n",
       "      <th>3</th>\n",
       "      <th>4</th>\n",
       "    </tr>\n",
       "  </thead>\n",
       "  <tbody>\n",
       "    <tr>\n",
       "      <th>0</th>\n",
       "      <td>Emission</td>\n",
       "      <td>Source Air C</td>\n",
       "      <td>ontaminant E</td>\n",
       "      <td>m i s s i o n R a t</td>\n",
       "      <td>e s *</td>\n",
       "    </tr>\n",
       "    <tr>\n",
       "      <th>1</th>\n",
       "      <td></td>\n",
       "      <td></td>\n",
       "      <td></td>\n",
       "      <td></td>\n",
       "      <td></td>\n",
       "    </tr>\n",
       "    <tr>\n",
       "      <th>2</th>\n",
       "      <td>Point No. (1)</td>\n",
       "      <td>Name (2)</td>\n",
       "      <td>Name (3) l b</td>\n",
       "      <td>/ h r</td>\n",
       "      <td>T P Y *</td>\n",
       "    </tr>\n",
       "    <tr>\n",
       "      <th>3</th>\n",
       "      <td></td>\n",
       "      <td></td>\n",
       "      <td></td>\n",
       "      <td></td>\n",
       "      <td></td>\n",
       "    </tr>\n",
       "    <tr>\n",
       "      <th>4</th>\n",
       "      <td>BSA</td>\n",
       "      <td>Waste Pile</td>\n",
       "      <td>VOC</td>\n",
       "      <td>5.07</td>\n",
       "      <td>22.20</td>\n",
       "    </tr>\n",
       "    <tr>\n",
       "      <th>5</th>\n",
       "      <td></td>\n",
       "      <td>PM</td>\n",
       "      <td>0.07</td>\n",
       "      <td>0.32</td>\n",
       "      <td></td>\n",
       "    </tr>\n",
       "    <tr>\n",
       "      <th>6</th>\n",
       "      <td></td>\n",
       "      <td></td>\n",
       "      <td></td>\n",
       "      <td></td>\n",
       "      <td></td>\n",
       "    </tr>\n",
       "    <tr>\n",
       "      <th>7</th>\n",
       "      <td>Drums</td>\n",
       "      <td>Drum Sampling</td>\n",
       "      <td>VOC</td>\n",
       "      <td>0.041</td>\n",
       "      <td>0.00</td>\n",
       "    </tr>\n",
       "    <tr>\n",
       "      <th>8</th>\n",
       "      <td></td>\n",
       "      <td></td>\n",
       "      <td></td>\n",
       "      <td></td>\n",
       "      <td></td>\n",
       "    </tr>\n",
       "    <tr>\n",
       "      <th>9</th>\n",
       "      <td>CB1</td>\n",
       "      <td>Containment Building (NOR 029)</td>\n",
       "      <td>VOC</td>\n",
       "      <td>0.52</td>\n",
       "      <td>2.30</td>\n",
       "    </tr>\n",
       "    <tr>\n",
       "      <th>10</th>\n",
       "      <td></td>\n",
       "      <td></td>\n",
       "      <td></td>\n",
       "      <td></td>\n",
       "      <td></td>\n",
       "    </tr>\n",
       "    <tr>\n",
       "      <th>11</th>\n",
       "      <td>CB2</td>\n",
       "      <td>Containment Building (NOR 036)</td>\n",
       "      <td>VOC</td>\n",
       "      <td>2.90</td>\n",
       "      <td>12.70</td>\n",
       "    </tr>\n",
       "  </tbody>\n",
       "</table>\n",
       "</div>"
      ],
      "text/plain": [
       "                0                               1             2  \\\n",
       "0        Emission                    Source Air C  ontaminant E   \n",
       "1                                                                 \n",
       "2   Point No. (1)                        Name (2)  Name (3) l b   \n",
       "3                                                                 \n",
       "4             BSA                      Waste Pile           VOC   \n",
       "5                                              PM          0.07   \n",
       "6                                                                 \n",
       "7           Drums                   Drum Sampling           VOC   \n",
       "8                                                                 \n",
       "9             CB1  Containment Building (NOR 029)           VOC   \n",
       "10                                                                \n",
       "11            CB2  Containment Building (NOR 036)           VOC   \n",
       "\n",
       "                      3        4  \n",
       "0   m i s s i o n R a t    e s *  \n",
       "1                                 \n",
       "2                 / h r  T P Y *  \n",
       "3                                 \n",
       "4                  5.07    22.20  \n",
       "5                  0.32           \n",
       "6                                 \n",
       "7                 0.041     0.00  \n",
       "8                                 \n",
       "9                  0.52     2.30  \n",
       "10                                \n",
       "11                 2.90    12.70  "
      ]
     },
     "execution_count": 70,
     "metadata": {},
     "output_type": "execute_result"
    }
   ],
   "source": [
    "df"
   ]
  },
  {
   "cell_type": "code",
   "execution_count": null,
   "metadata": {},
   "outputs": [],
   "source": []
  }
 ],
 "metadata": {
  "kernelspec": {
   "display_name": "Python 3",
   "language": "python",
   "name": "python3"
  },
  "language_info": {
   "codemirror_mode": {
    "name": "ipython",
    "version": 3
   },
   "file_extension": ".py",
   "mimetype": "text/x-python",
   "name": "python",
   "nbconvert_exporter": "python",
   "pygments_lexer": "ipython3",
   "version": "3.10.12"
  }
 },
 "nbformat": 4,
 "nbformat_minor": 2
}
