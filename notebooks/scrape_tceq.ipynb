{
 "cells": [
  {
   "cell_type": "code",
   "execution_count": 1,
   "metadata": {},
   "outputs": [],
   "source": [
    "import glob\n",
    "import os\n",
    "import re\n",
    "import requests\n",
    "\n",
    "import pandas as pd\n",
    "from bs4 import BeautifulSoup\n",
    "from tqdm import tqdm\n"
   ]
  },
  {
   "cell_type": "code",
   "execution_count": 2,
   "metadata": {},
   "outputs": [
    {
     "name": "stderr",
     "output_type": "stream",
     "text": [
      "100%|██████████| 74/74 [00:18<00:00,  3.93it/s]\n"
     ]
    }
   ],
   "source": [
    "\n",
    "catalog = []\n",
    "for fname in tqdm(glob.glob(os.path.expanduser(\"~/data/texas_air/tceq/tceq_all*_*.html\"))):\n",
    "    with open(fname) as fp:\n",
    "        soup = BeautifulSoup(fp)\n",
    "        catalog.extend([d.parent.parent for d in soup.find_all(\"div\", class_=\"xuiDisplayText_Sm\") if d.text.strip() == \"MAERT\"])\n"
   ]
  },
  {
   "cell_type": "code",
   "execution_count": 3,
   "metadata": {},
   "outputs": [],
   "source": [
    "def get_rn_number(link):\n",
    "    response = requests.get(link)\n",
    "    content = BeautifulSoup(response.content)\n",
    "    rn = [str(td) for td in content.find_all(\"td\")]\n",
    "\n",
    "    # join all strings in the list into a single string\n",
    "    rn_string = ' '.join(rn)\n",
    "\n",
    "    # search for the RN number\n",
    "    rn_number_match = re.search(r'RN\\d{9}', rn_string)\n",
    "\n",
    "    # if a match is found, get the matched string\n",
    "    rn_number = rn_number_match.group() if rn_number_match else None\n",
    "    return rn_number"
   ]
  },
  {
   "cell_type": "code",
   "execution_count": 4,
   "metadata": {},
   "outputs": [
    {
     "name": "stderr",
     "output_type": "stream",
     "text": [
      "100%|██████████| 2345/2345 [24:14<00:00,  1.61it/s]  \n"
     ]
    }
   ],
   "source": [
    "links = []\n",
    "rows = []\n",
    "action_links = []\n",
    "for row in tqdm(catalog):\n",
    "    link = [\"https://records.tceq.texas.gov\" + l[\"href\"] \n",
    "                      for l in row.find_all(\"a\")  \n",
    "                      if \"TCEQ_EXTERNAL_SEARCH_GET_FILE\" in l[\"href\"]]\n",
    "    if not len(link):\n",
    "        continue\n",
    "    links.append(link[0])\n",
    "    rows.append([d.text.strip() for d in row.find_all(\"div\", class_=\"xuiDisplayText_Sm\")][1:-1])\n",
    "    rn = get_rn_number(\"https://records.tceq.texas.gov\" + row.find_all(\"div\", class_=\"xuiDisplayText_Sm\")[-1].find(\"a\")[\"href\"])\n",
    "    rows[-1] = [rn] + rows[-1]\n",
    "\n",
    "\n",
    "df = pd.DataFrame(\n",
    "    rows, \n",
    "    columns=\"\"\"RN Number\n",
    "Content ID\n",
    "Record Series\n",
    "Primary ID    \n",
    "Secondary ID    \n",
    "Document Type    \n",
    "Title    \n",
    "Begin Date    \n",
    "End Date\n",
    "Litigation Hold\n",
    "Regulated Entity Name\n",
    "Media\n",
    "Description\n",
    "Security Group\"\"\".split(\"\\n\")\n",
    ").drop_duplicates()\n",
    "    "
   ]
  },
  {
   "cell_type": "code",
   "execution_count": 8,
   "metadata": {},
   "outputs": [],
   "source": [
    "\n",
    "df.to_csv(os.path.expanduser(\"~/data/texas_air/tceq/tceq_all_metadata.csv\"), index=False)\n"
   ]
  },
  {
   "cell_type": "code",
   "execution_count": 5,
   "metadata": {},
   "outputs": [
    {
     "data": {
      "text/plain": [
       "(2292,\n",
       " 1754,\n",
       " 'https://records.tceq.texas.gov/cs/idcplg?IdcService=TCEQ_EXTERNAL_SEARCH_GET_FILE&dID=5296975&Rendition=Web')"
      ]
     },
     "execution_count": 5,
     "metadata": {},
     "output_type": "execute_result"
    }
   ],
   "source": [
    "import re\n",
    "len(links), len(set(links)), links[0]"
   ]
  },
  {
   "cell_type": "code",
   "execution_count": 6,
   "metadata": {},
   "outputs": [],
   "source": [
    "with open(\"fetch_pdfs.sh\", \"w\") as fp:\n",
    "    for i, link in enumerate(links):\n",
    "        id_match = re.search(r\"dID=(\\d+)\", link)\n",
    "        if id_match:    \n",
    "            id = id_match.group(1)\n",
    "        else:\n",
    "            id = f\"UNK_{i}\"\n",
    "        fname = os.path.expanduser(f\"~/data/texas_air/tceq/pdf/{id}.pdf\")\n",
    "        fp.write(f\"wget \\\"{link}\\\" -O {fname}\\nsleep 0.5\\n\")"
   ]
  },
  {
   "cell_type": "code",
   "execution_count": 7,
   "metadata": {},
   "outputs": [
    {
     "data": {
      "text/plain": [
       "(1754, 14)"
      ]
     },
     "execution_count": 7,
     "metadata": {},
     "output_type": "execute_result"
    }
   ],
   "source": [
    "df.drop_duplicates().shape"
   ]
  },
  {
   "cell_type": "code",
   "execution_count": null,
   "metadata": {},
   "outputs": [],
   "source": []
  },
  {
   "cell_type": "code",
   "execution_count": null,
   "metadata": {},
   "outputs": [],
   "source": []
  }
 ],
 "metadata": {
  "kernelspec": {
   "display_name": "Python 3",
   "language": "python",
   "name": "python3"
  },
  "language_info": {
   "codemirror_mode": {
    "name": "ipython",
    "version": 3
   },
   "file_extension": ".py",
   "mimetype": "text/x-python",
   "name": "python",
   "nbconvert_exporter": "python",
   "pygments_lexer": "ipython3",
   "version": "3.10.12"
  }
 },
 "nbformat": 4,
 "nbformat_minor": 2
}
