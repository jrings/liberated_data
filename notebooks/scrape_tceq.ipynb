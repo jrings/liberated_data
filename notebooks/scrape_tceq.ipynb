{
 "cells": [
  {
   "cell_type": "code",
   "execution_count": 72,
   "metadata": {},
   "outputs": [
    {
     "name": "stderr",
     "output_type": "stream",
     "text": [
      "100%|██████████| 117/117 [00:10<00:00, 10.97it/s]\n"
     ]
    }
   ],
   "source": [
    "from bs4 import BeautifulSoup\n",
    "import glob\n",
    "import itertools\n",
    "import os\n",
    "from tqdm import tqdm\n",
    "links = []\n",
    "\n",
    "for fname in tqdm(glob.glob(os.path.expanduser(\"~/data/texas_air/tceq/tceq_all_*.html\"))):\n",
    "    with open(fname) as fp:\n",
    "        soup = BeautifulSoup(fp)\n",
    "        rows = [d.parent.parent for d in soup.find_all(\"div\", class_=\"xuiDisplayText_Sm\") if \"MAERT\" in d.text]\n",
    "        links.extend([\"https://records.tceq.texas.gov\" + l[\"href\"] \n",
    "                      for l in itertools.chain(*[row.find_all(\"a\") for row in rows]) \n",
    "                      if \"TCEQ_EXTERNAL_SEARCH_GET_FILE\" in l[\"href\"]])\n"
   ]
  },
  {
   "cell_type": "code",
   "execution_count": 76,
   "metadata": {},
   "outputs": [
    {
     "data": {
      "text/plain": [
       "(323,\n",
       " 'https://records.tceq.texas.gov/cs/idcplg?IdcService=TCEQ_EXTERNAL_SEARCH_GET_FILE&dID=5233344&Rendition=Web')"
      ]
     },
     "execution_count": 76,
     "metadata": {},
     "output_type": "execute_result"
    }
   ],
   "source": [
    "import re\n",
    "len(links), links[0]"
   ]
  },
  {
   "cell_type": "code",
   "execution_count": 82,
   "metadata": {},
   "outputs": [],
   "source": [
    "with open(\"fetch_pdfs.sh\", \"w\") as fp:\n",
    "    for i, link in enumerate(links):\n",
    "        id_match = re.search(r\"dID=(\\d+)\", link)\n",
    "        if id_match:    \n",
    "            id = id_match.group(1)\n",
    "        else:\n",
    "            id = f\"UNK_{i}\"\n",
    "        fname = os.path.expanduser(f\"~/data/texas_air/tceq/pdf/{id}.pdf\")\n",
    "        fp.write(f\"wget {link} -O {fname}\\nsleep 2\\n\")"
   ]
  },
  {
   "cell_type": "code",
   "execution_count": null,
   "metadata": {},
   "outputs": [],
   "source": []
  }
 ],
 "metadata": {
  "kernelspec": {
   "display_name": "Python 3",
   "language": "python",
   "name": "python3"
  },
  "language_info": {
   "codemirror_mode": {
    "name": "ipython",
    "version": 3
   },
   "file_extension": ".py",
   "mimetype": "text/x-python",
   "name": "python",
   "nbconvert_exporter": "python",
   "pygments_lexer": "ipython3",
   "version": "3.10.12"
  }
 },
 "nbformat": 4,
 "nbformat_minor": 2
}
