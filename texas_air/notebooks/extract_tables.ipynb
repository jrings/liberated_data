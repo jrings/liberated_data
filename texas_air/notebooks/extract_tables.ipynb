{
 "cells": [
  {
   "cell_type": "code",
   "execution_count": 1,
   "metadata": {},
   "outputs": [],
   "source": [
    "import glob\n",
    "import os\n",
    "import sys\n",
    "\n",
    "os.environ[\"LOG_LEVEL\"] = \"INFO\"\n",
    "\n",
    "from tqdm import tqdm\n",
    "sys.path.append(os.path.realpath(os.path.join(\"..\", \"src\")))\n",
    "from extract_table import extract_from_file\n",
    "\n",
    "RERUN_ALL = False\n"
   ]
  },
  {
   "cell_type": "code",
   "execution_count": 2,
   "metadata": {},
   "outputs": [],
   "source": [
    "pdfdir = os.path.expanduser(\"~/data/texas_air/tceq/pdf\")\n",
    "fnames = glob.glob(os.path.join(pdfdir, \"*.pdf\"))"
   ]
  },
  {
   "cell_type": "code",
   "execution_count": 3,
   "metadata": {},
   "outputs": [
    {
     "name": "stderr",
     "output_type": "stream",
     "text": [
      "  0%|          | 0/1754 [00:00<?, ?it/s]"
     ]
    },
    {
     "name": "stdout",
     "output_type": "stream",
     "text": [
      "\u001b[35m19:24:10 [INFO]\u001b[0m \u001b[36mextract_table:extract_from_file:63 | \u001b[0m\u001b[1mExtracting from /home/jrings/data/texas_air/tceq/pdf/5736044.pdf\u001b[0m\n",
      "\u001b[35m19:24:10 [INFO]\u001b[0m \u001b[36mextract_table:extract_from_file:76 | \u001b[0m\u001b[1mEncountered table without vertical lines, extracting from text\u001b[0m\n",
      "(6, 4)\n",
      "\u001b[35m19:24:10 [INFO]\u001b[0m \u001b[36mextract_table:extract_from_file:63 | \u001b[0m\u001b[1mExtracting from /home/jrings/data/texas_air/tceq/pdf/5231816.pdf\u001b[0m\n"
     ]
    },
    {
     "name": "stderr",
     "output_type": "stream",
     "text": [
      "  1%|          | 19/1754 [00:00<00:22, 78.82it/s]"
     ]
    },
    {
     "name": "stdout",
     "output_type": "stream",
     "text": [
      "(9, 4)\n",
      "\u001b[35m19:24:10 [INFO]\u001b[0m \u001b[36mextract_table:extract_from_file:63 | \u001b[0m\u001b[1mExtracting from /home/jrings/data/texas_air/tceq/pdf/5313570.pdf\u001b[0m\n",
      "(126, 4)\n",
      "\u001b[35m19:24:11 [INFO]\u001b[0m \u001b[36mextract_table:extract_from_file:63 | \u001b[0m\u001b[1mExtracting from /home/jrings/data/texas_air/tceq/pdf/5030677.pdf\u001b[0m\n",
      "(86, 4)\n",
      "\u001b[35m19:24:12 [INFO]\u001b[0m \u001b[36mextract_table:extract_from_file:63 | \u001b[0m\u001b[1mExtracting from /home/jrings/data/texas_air/tceq/pdf/5333555.pdf\u001b[0m\n",
      "(29, 4)\n",
      "\u001b[35m19:24:12 [INFO]\u001b[0m \u001b[36mextract_table:extract_from_file:63 | \u001b[0m\u001b[1mExtracting from /home/jrings/data/texas_air/tceq/pdf/5371384.pdf\u001b[0m\n",
      "(9, 4)\n",
      "\u001b[35m19:24:12 [INFO]\u001b[0m \u001b[36mextract_table:extract_from_file:63 | \u001b[0m\u001b[1mExtracting from /home/jrings/data/texas_air/tceq/pdf/6340989.pdf\u001b[0m\n",
      "(196, 4)\n",
      "\u001b[35m19:24:14 [INFO]\u001b[0m \u001b[36mextract_table:extract_from_file:63 | \u001b[0m\u001b[1mExtracting from /home/jrings/data/texas_air/tceq/pdf/6321165.pdf\u001b[0m\n",
      "(1675, 4)\n",
      "\u001b[35m19:24:25 [INFO]\u001b[0m \u001b[36mextract_table:extract_from_file:63 | \u001b[0m\u001b[1mExtracting from /home/jrings/data/texas_air/tceq/pdf/5852082.pdf\u001b[0m\n",
      "(48, 4)\n",
      "\u001b[35m19:24:26 [INFO]\u001b[0m \u001b[36mextract_table:extract_from_file:63 | \u001b[0m\u001b[1mExtracting from /home/jrings/data/texas_air/tceq/pdf/5292257.pdf\u001b[0m\n"
     ]
    },
    {
     "name": "stderr",
     "output_type": "stream",
     "text": [
      "  2%|▏         | 27/1754 [00:15<20:51,  1.38it/s]"
     ]
    },
    {
     "name": "stdout",
     "output_type": "stream",
     "text": [
      "(21, 4)\n",
      "\u001b[35m19:24:26 [INFO]\u001b[0m \u001b[36mextract_table:extract_from_file:63 | \u001b[0m\u001b[1mExtracting from /home/jrings/data/texas_air/tceq/pdf/5233103.pdf\u001b[0m\n"
     ]
    },
    {
     "name": "stderr",
     "output_type": "stream",
     "text": [
      "  2%|▏         | 28/1754 [00:17<23:12,  1.24it/s]"
     ]
    },
    {
     "name": "stdout",
     "output_type": "stream",
     "text": [
      "(241, 4)\n",
      "\u001b[35m19:24:28 [INFO]\u001b[0m \u001b[36mextract_table:extract_from_file:63 | \u001b[0m\u001b[1mExtracting from /home/jrings/data/texas_air/tceq/pdf/5130999.pdf\u001b[0m\n",
      "\u001b[35m19:24:28 [INFO]\u001b[0m \u001b[36mextract_table:extract_from_file:76 | \u001b[0m\u001b[1mEncountered table without vertical lines, extracting from text\u001b[0m\n",
      "(14, 4)\n",
      "\u001b[35m19:24:28 [INFO]\u001b[0m \u001b[36mextract_table:extract_from_file:63 | \u001b[0m\u001b[1mExtracting from /home/jrings/data/texas_air/tceq/pdf/5232693.pdf\u001b[0m\n",
      "(88, 4)\n",
      "\u001b[35m19:24:29 [INFO]\u001b[0m \u001b[36mextract_table:extract_from_file:63 | \u001b[0m\u001b[1mExtracting from /home/jrings/data/texas_air/tceq/pdf/5343947.pdf\u001b[0m\n",
      "(13, 4)\n",
      "\u001b[35m19:24:29 [INFO]\u001b[0m \u001b[36mextract_table:extract_from_file:63 | \u001b[0m\u001b[1mExtracting from /home/jrings/data/texas_air/tceq/pdf/5858418.pdf\u001b[0m\n"
     ]
    }
   ],
   "source": [
    "\n",
    "for fname in tqdm(fnames):\n",
    "    if not os.path.exists(fname.replace(\".pdf\", \".csv\")) or RERUN_ALL:\n",
    "        df = extract_from_file(fname)"
   ]
  },
  {
   "cell_type": "code",
   "execution_count": null,
   "metadata": {},
   "outputs": [],
   "source": []
  }
 ],
 "metadata": {
  "kernelspec": {
   "display_name": "Python 3",
   "language": "python",
   "name": "python3"
  },
  "language_info": {
   "codemirror_mode": {
    "name": "ipython",
    "version": 3
   },
   "file_extension": ".py",
   "mimetype": "text/x-python",
   "name": "python",
   "nbconvert_exporter": "python",
   "pygments_lexer": "ipython3",
   "version": "3.10.12"
  }
 },
 "nbformat": 4,
 "nbformat_minor": 2
}
