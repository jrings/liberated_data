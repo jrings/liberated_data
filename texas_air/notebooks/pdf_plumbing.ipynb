{
 "cells": [
  {
   "cell_type": "code",
   "execution_count": 82,
   "metadata": {},
   "outputs": [],
   "source": [
    "import os\n",
    "\n",
    "import pandas as pd\n",
    "import pdfplumber\n",
    "\n",
    "COLUMNS = [\"Emission Source\", \"Air Contaminant Name\", \"Emission Rate lbs/hr\", \"Emission Rate tons/year\"]"
   ]
  },
  {
   "cell_type": "markdown",
   "metadata": {},
   "source": [
    "### Two major formats\n",
    "\n",
    "Let's start with the friendlier one"
   ]
  },
  {
   "cell_type": "code",
   "execution_count": 83,
   "metadata": {},
   "outputs": [
    {
     "data": {
      "image/png": "[encoded data removed]",
      "text/plain": [
       "<pdfplumber.display.PageImage at 0x76625cac2350>"
      ]
     },
     "execution_count": 83,
     "metadata": {},
     "output_type": "execute_result"
    }
   ],
   "source": [
    "pdf = pdfplumber.open(os.path.expanduser(\"~/data/texas_air/tceq/pdf/5327403.pdf\"))\n",
    "pdf.pages[0].to_image()"
   ]
  },
  {
   "cell_type": "code",
   "execution_count": 85,
   "metadata": {},
   "outputs": [
    {
     "data": {
      "text/html": [
       "<div>\n",
       "<style scoped>\n",
       "    .dataframe tbody tr th:only-of-type {\n",
       "        vertical-align: middle;\n",
       "    }\n",
       "\n",
       "    .dataframe tbody tr th {\n",
       "        vertical-align: top;\n",
       "    }\n",
       "\n",
       "    .dataframe thead th {\n",
       "        text-align: right;\n",
       "    }\n",
       "</style>\n",
       "<table border=\"1\" class=\"dataframe\">\n",
       "  <thead>\n",
       "    <tr style=\"text-align: right;\">\n",
       "      <th></th>\n",
       "      <th>Emission Source</th>\n",
       "      <th>Air Contaminant Name</th>\n",
       "      <th>Emission Rate lbs/hr</th>\n",
       "      <th>Emission Rate tons/year</th>\n",
       "    </tr>\n",
       "  </thead>\n",
       "  <tbody>\n",
       "    <tr>\n",
       "      <th>0</th>\n",
       "      <td>1: Primary Crusher (5)</td>\n",
       "      <td>PM</td>\n",
       "      <td>0.01</td>\n",
       "      <td>0.01</td>\n",
       "    </tr>\n",
       "    <tr>\n",
       "      <th>1</th>\n",
       "      <td>1: Primary Crusher (5)</td>\n",
       "      <td>PM\\n10</td>\n",
       "      <td>0.01</td>\n",
       "      <td>0.01</td>\n",
       "    </tr>\n",
       "    <tr>\n",
       "      <th>2</th>\n",
       "      <td>1: Primary Crusher (5)</td>\n",
       "      <td>PM\\n2.5</td>\n",
       "      <td>0.01</td>\n",
       "      <td>0.01</td>\n",
       "    </tr>\n",
       "    <tr>\n",
       "      <th>3</th>\n",
       "      <td>2: Screen (5)</td>\n",
       "      <td>PM</td>\n",
       "      <td>0.06</td>\n",
       "      <td>0.07</td>\n",
       "    </tr>\n",
       "    <tr>\n",
       "      <th>4</th>\n",
       "      <td>2: Screen (5)</td>\n",
       "      <td>PM\\n10</td>\n",
       "      <td>0.02</td>\n",
       "      <td>0.03</td>\n",
       "    </tr>\n",
       "    <tr>\n",
       "      <th>5</th>\n",
       "      <td>2: Screen (5)</td>\n",
       "      <td>PM\\n2.5</td>\n",
       "      <td>0.01</td>\n",
       "      <td>0.01</td>\n",
       "    </tr>\n",
       "    <tr>\n",
       "      <th>6</th>\n",
       "      <td>3: Material Handling (5)</td>\n",
       "      <td>PM</td>\n",
       "      <td>0.15</td>\n",
       "      <td>0.17</td>\n",
       "    </tr>\n",
       "    <tr>\n",
       "      <th>7</th>\n",
       "      <td>3: Material Handling (5)</td>\n",
       "      <td>PM\\n10</td>\n",
       "      <td>0.05</td>\n",
       "      <td>0.06</td>\n",
       "    </tr>\n",
       "    <tr>\n",
       "      <th>8</th>\n",
       "      <td>3: Material Handling (5)</td>\n",
       "      <td>PM\\n2.5</td>\n",
       "      <td>0.02</td>\n",
       "      <td>0.02</td>\n",
       "    </tr>\n",
       "    <tr>\n",
       "      <th>9</th>\n",
       "      <td>4: Stockpiles (5)(6)</td>\n",
       "      <td>PM</td>\n",
       "      <td>--</td>\n",
       "      <td>0.46</td>\n",
       "    </tr>\n",
       "    <tr>\n",
       "      <th>10</th>\n",
       "      <td>4: Stockpiles (5)(6)</td>\n",
       "      <td>PM\\n10</td>\n",
       "      <td>--</td>\n",
       "      <td>0.23</td>\n",
       "    </tr>\n",
       "    <tr>\n",
       "      <th>11</th>\n",
       "      <td>4: Stockpiles (5)(6)</td>\n",
       "      <td>PM\\n2.5</td>\n",
       "      <td>--</td>\n",
       "      <td>0.04</td>\n",
       "    </tr>\n",
       "  </tbody>\n",
       "</table>\n",
       "</div>"
      ],
      "text/plain": [
       "             Emission Source Air Contaminant Name Emission Rate lbs/hr  \\\n",
       "0     1: Primary Crusher (5)                   PM                 0.01   \n",
       "1     1: Primary Crusher (5)               PM\\n10                 0.01   \n",
       "2     1: Primary Crusher (5)              PM\\n2.5                 0.01   \n",
       "3              2: Screen (5)                   PM                 0.06   \n",
       "4              2: Screen (5)               PM\\n10                 0.02   \n",
       "5              2: Screen (5)              PM\\n2.5                 0.01   \n",
       "6   3: Material Handling (5)                   PM                 0.15   \n",
       "7   3: Material Handling (5)               PM\\n10                 0.05   \n",
       "8   3: Material Handling (5)              PM\\n2.5                 0.02   \n",
       "9       4: Stockpiles (5)(6)                   PM                   --   \n",
       "10      4: Stockpiles (5)(6)               PM\\n10                   --   \n",
       "11      4: Stockpiles (5)(6)              PM\\n2.5                   --   \n",
       "\n",
       "   Emission Rate tons/year  \n",
       "0                     0.01  \n",
       "1                     0.01  \n",
       "2                     0.01  \n",
       "3                     0.07  \n",
       "4                     0.03  \n",
       "5                     0.01  \n",
       "6                     0.17  \n",
       "7                     0.06  \n",
       "8                     0.02  \n",
       "9                     0.46  \n",
       "10                    0.23  \n",
       "11                    0.04  "
      ]
     },
     "execution_count": 85,
     "metadata": {},
     "output_type": "execute_result"
    }
   ],
   "source": [
    "rows = pdf.pages[0].extract_table()[2:]\n",
    "rows = [[f\"{row[0]}: {row[1]}\"]  + row[2:] if row[0] is not None else [\"\"] + row[2:] for row in rows]\n",
    "df = pd.DataFrame(rows, columns=COLUMNS)\n",
    "df[\"Emission Source\"].replace('', pd.NA, inplace=True)\n",
    "df[\"Emission Source\"].fillna(method=\"ffill\", inplace=True)\n",
    "df"
   ]
  },
  {
   "cell_type": "markdown",
   "metadata": {},
   "source": [
    "### Second major format\n",
    "\n",
    "This one seems a bit older and is not well formatted"
   ]
  },
  {
   "cell_type": "code",
   "execution_count": 77,
   "metadata": {},
   "outputs": [],
   "source": [
    "pdf = pdfplumber.open(os.path.expanduser(\"~/data/texas_air/tceq/pdf/5131471.pdf\"))"
   ]
  },
  {
   "cell_type": "code",
   "execution_count": 78,
   "metadata": {},
   "outputs": [],
   "source": [
    "p0 = pdf.pages[0]\n",
    "text_0 = p0.extract_text()"
   ]
  },
  {
   "cell_type": "code",
   "execution_count": 79,
   "metadata": {},
   "outputs": [
    {
     "data": {
      "image/png": "[encoded data removed]",
      "text/plain": [
       "<pdfplumber.display.PageImage at 0x76625cbd6080>"
      ]
     },
     "execution_count": 79,
     "metadata": {},
     "output_type": "execute_result"
    }
   ],
   "source": [
    "im = p0.to_image()\n",
    "im.draw_line(((0, 230), (600, 230)))\n",
    "im.draw_line(((0, 440), (600, 440)))\n"
   ]
  },
  {
   "cell_type": "code",
   "execution_count": 80,
   "metadata": {},
   "outputs": [
    {
     "name": "stdout",
     "output_type": "stream",
     "text": [
      "[['EPN-1', 'Open', 'Booth', 'VOC', '11.3', '1.12'], ['PM', '0.05', '<0.01'], ['EPN-2', 'Closed', 'Booth', 'VOC', '11.3', '3.36'], ['PM', '0.05', '<0.01'], ['F-1', 'Fugitive', '(4)', 'VOC', '0.55', '0.43']]\n"
     ]
    },
    {
     "data": {
      "text/html": [
       "<div>\n",
       "<style scoped>\n",
       "    .dataframe tbody tr th:only-of-type {\n",
       "        vertical-align: middle;\n",
       "    }\n",
       "\n",
       "    .dataframe tbody tr th {\n",
       "        vertical-align: top;\n",
       "    }\n",
       "\n",
       "    .dataframe thead th {\n",
       "        text-align: right;\n",
       "    }\n",
       "</style>\n",
       "<table border=\"1\" class=\"dataframe\">\n",
       "  <thead>\n",
       "    <tr style=\"text-align: right;\">\n",
       "      <th></th>\n",
       "      <th>Emission Source</th>\n",
       "      <th>Air Contaminant Name</th>\n",
       "      <th>Emission Rate lbs/hr</th>\n",
       "      <th>Emission Rate tons/year</th>\n",
       "    </tr>\n",
       "  </thead>\n",
       "  <tbody>\n",
       "    <tr>\n",
       "      <th>0</th>\n",
       "      <td>EPN-1 Open Booth</td>\n",
       "      <td>VOC</td>\n",
       "      <td>11.30</td>\n",
       "      <td>1.12</td>\n",
       "    </tr>\n",
       "    <tr>\n",
       "      <th>1</th>\n",
       "      <td>EPN-1 Open Booth</td>\n",
       "      <td>PM</td>\n",
       "      <td>0.05</td>\n",
       "      <td>NaN</td>\n",
       "    </tr>\n",
       "    <tr>\n",
       "      <th>2</th>\n",
       "      <td>EPN-2 Closed Booth</td>\n",
       "      <td>VOC</td>\n",
       "      <td>11.30</td>\n",
       "      <td>3.36</td>\n",
       "    </tr>\n",
       "    <tr>\n",
       "      <th>3</th>\n",
       "      <td>EPN-2 Closed Booth</td>\n",
       "      <td>PM</td>\n",
       "      <td>0.05</td>\n",
       "      <td>NaN</td>\n",
       "    </tr>\n",
       "    <tr>\n",
       "      <th>4</th>\n",
       "      <td>F-1 Fugitive (4)</td>\n",
       "      <td>VOC</td>\n",
       "      <td>0.55</td>\n",
       "      <td>0.43</td>\n",
       "    </tr>\n",
       "  </tbody>\n",
       "</table>\n",
       "</div>"
      ],
      "text/plain": [
       "      Emission Source Air Contaminant Name  Emission Rate lbs/hr  \\\n",
       "0    EPN-1 Open Booth                  VOC                 11.30   \n",
       "1    EPN-1 Open Booth                   PM                  0.05   \n",
       "2  EPN-2 Closed Booth                  VOC                 11.30   \n",
       "3  EPN-2 Closed Booth                   PM                  0.05   \n",
       "4    F-1 Fugitive (4)                  VOC                  0.55   \n",
       "\n",
       "   Emission Rate tons/year  \n",
       "0                     1.12  \n",
       "1                      NaN  \n",
       "2                     3.36  \n",
       "3                      NaN  \n",
       "4                     0.43  "
      ]
     },
     "execution_count": 80,
     "metadata": {},
     "output_type": "execute_result"
    }
   ],
   "source": [
    "lines = text_0.split(\"\\n\")\n",
    "start = [i for i, line in enumerate(lines) if line.strip().lower() == \"air contaminants data\"][0]\n",
    "\n",
    "# Find first row ending in a number\n",
    "while True:\n",
    "    if lines[start].strip()[-1].isdigit():\n",
    "        break\n",
    "    start += 1\n",
    "\n",
    "end = [i for i, line in enumerate(lines) if i > start and \"emission point identification\" in line.lower()][0]\n",
    "\n",
    "rows = [line.strip().split() for line in lines[start:end]]\n",
    "print(rows)\n",
    "def tonum(x):\n",
    "    try:\n",
    "        return float(x)\n",
    "    except:\n",
    "        return float(\"nan\")\n",
    "    \n",
    "rows = [(\" \".join(rr[:-3]), rr[-3], tonum(rr[-2]), tonum(rr[-1])) for rr in rows]\n",
    "last_non_none = None\n",
    "new_rows = []\n",
    "for row in rows:\n",
    "    if row[0] is not None:\n",
    "        last_non_none = row[0]\n",
    "    elif row[0] is None:\n",
    "        row[0] = last_non_none\n",
    "    new_rows.append(row)\n",
    "rows = new_rows\n",
    "df = pd.DataFrame(rows, columns=COLUMNS)\n",
    "df[\"Emission Source\"].replace('', pd.NA, inplace=True)\n",
    "df[\"Emission Source\"].fillna(method=\"ffill\", inplace=True)\n",
    "df"
   ]
  },
  {
   "cell_type": "code",
   "execution_count": null,
   "metadata": {},
   "outputs": [],
   "source": []
  }
 ],
 "metadata": {
  "kernelspec": {
   "display_name": "Python 3",
   "language": "python",
   "name": "python3"
  },
  "language_info": {
   "codemirror_mode": {
    "name": "ipython",
    "version": 3
   },
   "file_extension": ".py",
   "mimetype": "text/x-python",
   "name": "python",
   "nbconvert_exporter": "python",
   "pygments_lexer": "ipython3",
   "version": "3.10.12"
  }
 },
 "nbformat": 4,
 "nbformat_minor": 2
}
